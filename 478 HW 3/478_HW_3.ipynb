{
  "nbformat": 4,
  "nbformat_minor": 0,
  "metadata": {
    "colab": {
      "provenance": []
    },
    "kernelspec": {
      "name": "python3",
      "display_name": "Python 3"
    },
    "language_info": {
      "name": "python"
    }
  },
  "cells": [
    {
      "cell_type": "markdown",
      "source": [],
      "metadata": {
        "id": "WHut5XirKdTI"
      }
    },
    {
      "cell_type": "markdown",
      "source": [
        "# Pytorch Classification Neural Network"
      ],
      "metadata": {
        "id": "6UBWHE_mKeNN"
      }
    },
    {
      "cell_type": "markdown",
      "source": [
        "## Useful resources:\n",
        "\n",
        "* [Introduction to PyTorch - YouTube Series](https://pytorch.org/tutorials/beginner/introyt.html)\n",
        " (Work through sections 1 to 6)\n",
        "* Dataset we are working with: [Breast Cancer Wisconsin Dataset](https://scikit-learn.org/stable/modules/generated/sklearn.datasets.load_breast_cancer.html)\n",
        "* [PyTorch NN Guide](https://coderzcolumn.com/tutorials/artificial-intelligence/guide-to-create-simple-neural-networks-using-pytorch)\n"
      ],
      "metadata": {
        "id": "ROjr1UE-Kiai"
      }
    },
    {
      "cell_type": "code",
      "source": [
        "import matplotlib.pyplot as plt\n",
        "import torch\n",
        "from torch.utils.data import TensorDataset, DataLoader"
      ],
      "metadata": {
        "id": "uoFH7Z6jTyLb"
      },
      "execution_count": null,
      "outputs": []
    },
    {
      "cell_type": "markdown",
      "source": [
        "Load the Breast Cancer Wisconsin Dataset."
      ],
      "metadata": {
        "id": "ebeCsWNaMZEc"
      }
    },
    {
      "cell_type": "code",
      "execution_count": null,
      "metadata": {
        "id": "NRVPTNLHKWhJ"
      },
      "outputs": [],
      "source": [
        "from sklearn import datasets\n",
        "X, y = datasets.load_breast_cancer(return_X_y = True)"
      ]
    },
    {
      "cell_type": "markdown",
      "source": [
        "Split the datset into a training set and a test set. And convert to PyTorch tensors using torch.tensor() method."
      ],
      "metadata": {
        "id": "vcZVkHpaTkf4"
      }
    },
    {
      "cell_type": "code",
      "source": [
        "from sklearn.model_selection import train_test_split\n",
        "\n",
        "X_train, X_test, y_train, y_test = train_test_split(X, y, train_size=0.8)\n",
        "\n",
        "X_train, X_test, Y_train, Y_test = torch.tensor(X_train, dtype=torch.float32),\\\n",
        "                                   torch.tensor(X_test, dtype=torch.float32),\\\n",
        "                                   torch.tensor(y_train, dtype=torch.float32),\\\n",
        "                                   torch.tensor(y_test, dtype=torch.float32)"
      ],
      "metadata": {
        "id": "BrctImvMTqSh"
      },
      "execution_count": null,
      "outputs": []
    },
    {
      "cell_type": "markdown",
      "source": [
        "Visualize the Training and Testing Data."
      ],
      "metadata": {
        "id": "uvuULIkmWw0u"
      }
    },
    {
      "cell_type": "code",
      "source": [
        "fig, (train_ax, test_ax) = plt.subplots(ncols=2, sharex=True, sharey=True, figsize=(10, 5))\n",
        "train_ax.scatter(X_train[:, 0], X_train[:, 1], c=y_train, cmap=plt.cm.Spectral)\n",
        "train_ax.set_title(\"Training Data\")\n",
        "train_ax.set_xlabel(\"Feature #0\")\n",
        "train_ax.set_ylabel(\"Feature #1\")\n",
        "\n",
        "test_ax.scatter(X_test[:, 0], X_test[:, 1], c=y_test)\n",
        "test_ax.set_xlabel(\"Feature #0\")\n",
        "test_ax.set_title(\"Testing data\")\n",
        "plt.show()"
      ],
      "metadata": {
        "colab": {
          "base_uri": "https://localhost:8080/",
          "height": 350
        },
        "id": "QkgzAECSVf0t",
        "outputId": "768042ff-e9c8-49b7-a447-97f1bbd7474f"
      },
      "execution_count": null,
      "outputs": [
        {
          "output_type": "display_data",
          "data": {
            "text/plain": [
              "<Figure size 720x360 with 2 Axes>"
            ],
            "image/png": "[encoded data removed]"
          },
          "metadata": {
            "needs_background": "light"
          }
        }
      ]
    },
    {
      "cell_type": "markdown",
      "source": [
        "Normalize Data"
      ],
      "metadata": {
        "id": "j8ZUuO0idaf1"
      }
    },
    {
      "cell_type": "code",
      "source": [
        "mean = X_train.mean(axis=0)\n",
        "std = X_train.std(axis=0)\n",
        "\n",
        "X_train = (X_train - mean)/ std\n",
        "X_test = (X_test - mean)/ std"
      ],
      "metadata": {
        "id": "ns9ezdCZdatW"
      },
      "execution_count": null,
      "outputs": []
    },
    {
      "cell_type": "markdown",
      "source": [
        "Initialize Model Weights"
      ],
      "metadata": {
        "id": "UT1Hec8ddeFp"
      }
    },
    {
      "cell_type": "code",
      "source": [
        "def InitializeWeights(layer_sizes, scale=0.1):\n",
        "    weights = []\n",
        "    for i, units in enumerate(layer_sizes):\n",
        "        if i==0:\n",
        "            w = torch.rand(units,features, dtype=torch.float32)\n",
        "        else:\n",
        "            w = torch.rand(units,layer_sizes[i-1], dtype=torch.float32)\n",
        "\n",
        "        b = torch.rand(units, dtype=torch.float32)\n",
        "\n",
        "        if scale: ## Scale weights\n",
        "            w = w*scale\n",
        "            b = b*scale\n",
        "\n",
        "        w.requires_grad=True ## Set requires grad after weights are updated with scale\n",
        "        b.requires_grad=True\n",
        "\n",
        "        weights.append([w,b])\n",
        "\n",
        "    return weights"
      ],
      "metadata": {
        "id": "v93LfxgBdfLn"
      },
      "execution_count": null,
      "outputs": []
    },
    {
      "cell_type": "markdown",
      "source": [
        "Activation for Hidden Layers"
      ],
      "metadata": {
        "id": "DMhK9XU9diu9"
      }
    },
    {
      "cell_type": "code",
      "source": [
        "def Relu(tensor):\n",
        "    return torch.maximum(tensor, torch.zeros_like(tensor)) # max(0,x)"
      ],
      "metadata": {
        "id": "fWoNR-SNdjHv"
      },
      "execution_count": null,
      "outputs": []
    },
    {
      "cell_type": "markdown",
      "source": [
        "Activation for Last Layer"
      ],
      "metadata": {
        "id": "1cgbsGiodlZU"
      }
    },
    {
      "cell_type": "code",
      "source": [
        "def Sigmoid(tensor):\n",
        "    return 1 / (1 + torch.exp(-tensor))"
      ],
      "metadata": {
        "id": "QFZAwZladluo"
      },
      "execution_count": null,
      "outputs": []
    },
    {
      "cell_type": "code",
      "source": [
        "tensor = torch.tensor([1,2,3,4,5])\n",
        "\n",
        "Sigmoid(tensor), torch.nn.Sigmoid()(tensor)"
      ],
      "metadata": {
        "colab": {
          "base_uri": "https://localhost:8080/"
        },
        "id": "ldx8qiKJdm63",
        "outputId": "9255046f-a360-4fc7-c20c-168248631ca5"
      },
      "execution_count": null,
      "outputs": [
        {
          "output_type": "execute_result",
          "data": {
            "text/plain": [
              "(tensor([0.7311, 0.8808, 0.9526, 0.9820, 0.9933]),\n",
              " tensor([0.7311, 0.8808, 0.9526, 0.9820, 0.9933]))"
            ]
          },
          "metadata": {},
          "execution_count": 45
        }
      ]
    },
    {
      "cell_type": "markdown",
      "source": [
        "Single Layer of Neural Network"
      ],
      "metadata": {
        "id": "Ykrv_cWvdqCN"
      }
    },
    {
      "cell_type": "code",
      "source": [
        "def LinearLayer(weights, input_data, activation=lambda x: x):\n",
        "    w, b = weights\n",
        "    out = torch.matmul(input_data, w.T) + b ## Multiply input by weights and add bias to it.\n",
        "    return activation(out) ## Apply activation at last"
      ],
      "metadata": {
        "id": "_SDvT6SIdqX7"
      },
      "execution_count": null,
      "outputs": []
    },
    {
      "cell_type": "markdown",
      "source": [
        "Single Forward Pass through Data to Make Predictions"
      ],
      "metadata": {
        "id": "3AFiVJiSdsq6"
      }
    },
    {
      "cell_type": "code",
      "source": [
        "def ForwardPass(weights, input_data):\n",
        "    layer_out = input_data\n",
        "\n",
        "    for i in range(len(weights[:-1])):\n",
        "        layer_out = LinearLayer(weights[i], layer_out, Relu) ## Hidden Layer\n",
        "\n",
        "    preds = LinearLayer(weights[-1], layer_out, Sigmoid) ## Final Layer\n",
        "\n",
        "    return torch.clamp(preds.squeeze(), 0.01, 0.99)"
      ],
      "metadata": {
        "id": "m51ZLherdtbo"
      },
      "execution_count": null,
      "outputs": []
    },
    {
      "cell_type": "markdown",
      "source": [
        "Define Loss Function"
      ],
      "metadata": {
        "id": "RIH7b4Msdv7W"
      }
    },
    {
      "cell_type": "code",
      "source": [
        "def NegLogLoss(actual, preds):\n",
        "    loss = - actual * torch.log(preds) - (1 - actual) * torch.log(1 - preds)\n",
        "    return loss.mean()"
      ],
      "metadata": {
        "id": "vPz9N55NdxBf"
      },
      "execution_count": null,
      "outputs": []
    },
    {
      "cell_type": "code",
      "source": [
        "y1 = torch.tensor([1,1,0, 0,1])\n",
        "y2 = torch.tensor([0.7,0.1,0.69, 0.1,0.23])\n",
        "\n",
        "NegLogLoss(y1, y2)"
      ],
      "metadata": {
        "colab": {
          "base_uri": "https://localhost:8080/"
        },
        "id": "Xf07u4gjdyLF",
        "outputId": "479e2804-797e-4423-fcb5-f3aea44b9f54"
      },
      "execution_count": null,
      "outputs": [
        {
          "output_type": "execute_result",
          "data": {
            "text/plain": [
              "tensor(1.0811)"
            ]
          },
          "metadata": {},
          "execution_count": 49
        }
      ]
    },
    {
      "cell_type": "code",
      "source": [
        "from sklearn.metrics import log_loss\n",
        "\n",
        "log_loss(y1.detach().numpy(), y2.detach().numpy())"
      ],
      "metadata": {
        "colab": {
          "base_uri": "https://localhost:8080/"
        },
        "id": "U2z6_ykXdzyc",
        "outputId": "cb7c93f4-8c00-44f7-b3f7-baf105c3bfe7"
      },
      "execution_count": null,
      "outputs": [
        {
          "output_type": "execute_result",
          "data": {
            "text/plain": [
              "1.0810959234833717"
            ]
          },
          "metadata": {},
          "execution_count": 50
        }
      ]
    },
    {
      "cell_type": "markdown",
      "source": [
        "Train Neural Network"
      ],
      "metadata": {
        "id": "7vkh_U0qd1LW"
      }
    },
    {
      "cell_type": "code",
      "source": [
        "from torch import autograd\n",
        "\n",
        "def TrainModel(X, Y, learning_rate, epochs):\n",
        "\n",
        "    for i in range(1, epochs+1):\n",
        "        preds = ForwardPass(weights, X) ## Make Predictions by forward pass through network\n",
        "\n",
        "        loss = NegLogLoss(Y, preds) ## Calculate Loss\n",
        "\n",
        "        loss.backward() ## Calculate Gradients\n",
        "\n",
        "        with torch.no_grad():\n",
        "            for j in range(len(weights)): ## Update Weights\n",
        "                weights[j][0] -= learning_rate * weights[j][0].grad ## Update Weights\n",
        "                weights[j][1] -= learning_rate * weights[j][1].grad ## Update Biases\n",
        "\n",
        "                weights[j][0].grad = None\n",
        "                weights[j][1].grad = None\n",
        "\n",
        "        if i % 100 == 0: ## Print NegLogLoss every 100 epochs\n",
        "            print(\"NegLogLoss : {:.2f}\".format(loss))"
      ],
      "metadata": {
        "id": "siGRa2mwd1fC"
      },
      "execution_count": null,
      "outputs": []
    },
    {
      "cell_type": "code",
      "source": [
        "torch.manual_seed(42) ##For reproducibility.This will make sure that same random weights are initialized each time.\n",
        "\n",
        "epochs = 2500\n",
        "learning_rate = torch.tensor(1/1e2) # 0.01\n",
        "layer_sizes = [5,10,15,1] ## Layer sizes including last layer\n",
        "\n",
        "weights = InitializeWeights(layer_sizes) ## Initialize Weights\n",
        "\n",
        "TrainModel(X_train, Y_train, learning_rate, epochs)"
      ],
      "metadata": {
        "colab": {
          "base_uri": "https://localhost:8080/"
        },
        "id": "WwRP5KbOd5av",
        "outputId": "e929da0e-6f02-41b8-9deb-bb70f4786749"
      },
      "execution_count": null,
      "outputs": [
        {
          "output_type": "stream",
          "name": "stdout",
          "text": [
            "NegLogLoss : 0.69\n",
            "NegLogLoss : 0.69\n",
            "NegLogLoss : 0.68\n",
            "NegLogLoss : 0.68\n",
            "NegLogLoss : 0.67\n",
            "NegLogLoss : 0.67\n",
            "NegLogLoss : 0.65\n",
            "NegLogLoss : 0.63\n",
            "NegLogLoss : 0.56\n",
            "NegLogLoss : 0.46\n",
            "NegLogLoss : 0.38\n",
            "NegLogLoss : 0.32\n",
            "NegLogLoss : 0.28\n",
            "NegLogLoss : 0.25\n",
            "NegLogLoss : 0.23\n",
            "NegLogLoss : 0.20\n",
            "NegLogLoss : 0.19\n",
            "NegLogLoss : 0.17\n",
            "NegLogLoss : 0.16\n",
            "NegLogLoss : 0.15\n",
            "NegLogLoss : 0.14\n",
            "NegLogLoss : 0.13\n",
            "NegLogLoss : 0.12\n",
            "NegLogLoss : 0.11\n",
            "NegLogLoss : 0.11\n"
          ]
        }
      ]
    },
    {
      "cell_type": "markdown",
      "source": [
        "Make Predictions"
      ],
      "metadata": {
        "id": "bB8ksOGQd_Sd"
      }
    },
    {
      "cell_type": "code",
      "source": [
        "train_preds = ForwardPass(weights, X_train)\n",
        "\n",
        "train_preds = torch.as_tensor(train_preds > 0.5, dtype=torch.float32)\n",
        "\n",
        "train_preds[:5], Y_train[:5]"
      ],
      "metadata": {
        "colab": {
          "base_uri": "https://localhost:8080/"
        },
        "id": "raIrZ5gkd8aw",
        "outputId": "1ef32d18-d7da-4e7d-fc81-0f5df1c05e91"
      },
      "execution_count": null,
      "outputs": [
        {
          "output_type": "execute_result",
          "data": {
            "text/plain": [
              "(tensor([0., 0., 0., 1., 1.]), tensor([0., 0., 0., 1., 1.]))"
            ]
          },
          "metadata": {},
          "execution_count": 53
        }
      ]
    },
    {
      "cell_type": "code",
      "source": [
        "test_preds = ForwardPass(weights, X_test)\n",
        "\n",
        "test_preds = torch.as_tensor(test_preds > 0.5, dtype=torch.float32)\n",
        "\n",
        "test_preds[:5], Y_test[:5]"
      ],
      "metadata": {
        "colab": {
          "base_uri": "https://localhost:8080/"
        },
        "id": "vvv8o7k8eCSV",
        "outputId": "f5191766-2497-4aa3-8485-7df981d37792"
      },
      "execution_count": null,
      "outputs": [
        {
          "output_type": "execute_result",
          "data": {
            "text/plain": [
              "(tensor([0., 1., 1., 0., 1.]), tensor([0., 1., 1., 0., 1.]))"
            ]
          },
          "metadata": {},
          "execution_count": 54
        }
      ]
    },
    {
      "cell_type": "markdown",
      "source": [
        "Evaluate Performance of Neural Network"
      ],
      "metadata": {
        "id": "P2LRzUJteE3h"
      }
    },
    {
      "cell_type": "code",
      "source": [
        "from sklearn.metrics import accuracy_score\n",
        "\n",
        "print(\"Train Accuracy : {:.2f}\".format(accuracy_score(Y_train, train_preds)))\n",
        "print(\"Test  Accuracy : {:.2f}\".format(accuracy_score(Y_test, test_preds)))"
      ],
      "metadata": {
        "colab": {
          "base_uri": "https://localhost:8080/"
        },
        "id": "ETzmvan0eEsa",
        "outputId": "34d7691c-556c-4b38-f34d-1f7ba7e1693e"
      },
      "execution_count": null,
      "outputs": [
        {
          "output_type": "stream",
          "name": "stdout",
          "text": [
            "Train Accuracy : 0.98\n",
            "Test  Accuracy : 0.85\n"
          ]
        }
      ]
    }
  ]
}